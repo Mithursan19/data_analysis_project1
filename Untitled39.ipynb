{
  "cells": [
    {
      "cell_type": "markdown",
      "metadata": {
        "id": "view-in-github",
        "colab_type": "text"
      },
      "source": [
        "<a href=\"https://colab.research.google.com/github/Mithursan19/data_analysis_project1/blob/main/Untitled39.ipynb\" target=\"_parent\"><img src=\"https://colab.research.google.com/assets/colab-badge.svg\" alt=\"Open In Colab\"/></a>"
      ]
    },
    {
      "cell_type": "code",
      "source": [
        "import pandas as pd\n",
        "import matplotlib.pyplot as plt\n"
      ],
      "metadata": {
        "id": "O7fZnXscARN5"
      },
      "execution_count": 39,
      "outputs": []
    },
    {
      "cell_type": "code",
      "source": [
        "new_file1=pd.read_csv('/content/dirtydata.csv')\n",
        "new_file1.to_csv('new_file_1.csv')\n",
        "print(new_file1)"
      ],
      "metadata": {
        "colab": {
          "base_uri": "https://localhost:8080/"
        },
        "id": "rPlpFDJcdTgI",
        "outputId": "43e73130-fc66-42e5-bff4-1b1ff54cb4ec"
      },
      "execution_count": 13,
      "outputs": [
        {
          "output_type": "stream",
          "name": "stdout",
          "text": [
            "    Duration          Date  Pulse  Maxpulse  Calories\n",
            "0         60  '2020/12/01'    110       130     409.1\n",
            "1         60  '2020/12/02'    117       145     479.0\n",
            "2         60  '2020/12/03'    103       135     340.0\n",
            "3         45  '2020/12/04'    109       175     282.4\n",
            "4         45  '2020/12/05'    117       148     406.0\n",
            "5         60  '2020/12/06'    102       127     300.0\n",
            "6         60  '2020/12/07'    110       136     374.0\n",
            "7        450  '2020/12/08'    104       134     253.3\n",
            "8         30  '2020/12/09'    109       133     195.1\n",
            "9         60  '2020/12/10'     98       124     269.0\n",
            "10        60  '2020/12/11'    103       147     329.3\n",
            "11        60  '2020/12/12'    100       120     250.7\n",
            "12        60  '2020/12/12'    100       120     250.7\n",
            "13        60  '2020/12/13'    106       128     345.3\n",
            "14        60  '2020/12/14'    104       132     379.3\n",
            "15        60  '2020/12/15'     98       123     275.0\n",
            "16        60  '2020/12/16'     98       120     215.2\n",
            "17        60  '2020/12/17'    100       120     300.0\n",
            "18        45  '2020/12/18'     90       112       NaN\n",
            "19        60  '2020/12/19'    103       123     323.0\n",
            "20        45  '2020/12/20'     97       125     243.0\n",
            "21        60  '2020/12/21'    108       131     364.2\n",
            "22        45           NaN    100       119     282.0\n",
            "23        60  '2020/12/23'    130       101     300.0\n",
            "24        45  '2020/12/24'    105       132     246.0\n",
            "25        60  '2020/12/25'    102       126     334.5\n",
            "26        60      20201226    100       120     250.0\n",
            "27        60  '2020/12/27'     92       118     241.0\n",
            "28        60  '2020/12/28'    103       132       NaN\n",
            "29        60  '2020/12/29'    100       132     280.0\n",
            "30        60  '2020/12/30'    102       129     380.3\n",
            "31        60  '2020/12/31'     92       115     243.0\n"
          ]
        }
      ]
    },
    {
      "cell_type": "markdown",
      "source": [
        "**find and clean unwanted data from the csv file**"
      ],
      "metadata": {
        "id": "hDqNIW53efoj"
      }
    },
    {
      "cell_type": "code",
      "source": [
        "x=new_file1['Calories'].mean()\n",
        "print(x)"
      ],
      "metadata": {
        "colab": {
          "base_uri": "https://localhost:8080/"
        },
        "id": "YTRZugE8e5TS",
        "outputId": "5aba956e-2925-4db0-85f8-15deb618f7bf"
      },
      "execution_count": 15,
      "outputs": [
        {
          "output_type": "stream",
          "name": "stdout",
          "text": [
            "304.68\n"
          ]
        }
      ]
    },
    {
      "cell_type": "code",
      "source": [
        "new_file1['Calories'].fillna(304.68, inplace=True)\n",
        "print(new_file1)"
      ],
      "metadata": {
        "colab": {
          "base_uri": "https://localhost:8080/"
        },
        "id": "XX-bKm9zfk20",
        "outputId": "17266a5b-7a06-42fa-8291-e14ccd8173d0"
      },
      "execution_count": 16,
      "outputs": [
        {
          "output_type": "stream",
          "name": "stdout",
          "text": [
            "    Duration          Date  Pulse  Maxpulse  Calories\n",
            "0         60  '2020/12/01'    110       130    409.10\n",
            "1         60  '2020/12/02'    117       145    479.00\n",
            "2         60  '2020/12/03'    103       135    340.00\n",
            "3         45  '2020/12/04'    109       175    282.40\n",
            "4         45  '2020/12/05'    117       148    406.00\n",
            "5         60  '2020/12/06'    102       127    300.00\n",
            "6         60  '2020/12/07'    110       136    374.00\n",
            "7        450  '2020/12/08'    104       134    253.30\n",
            "8         30  '2020/12/09'    109       133    195.10\n",
            "9         60  '2020/12/10'     98       124    269.00\n",
            "10        60  '2020/12/11'    103       147    329.30\n",
            "11        60  '2020/12/12'    100       120    250.70\n",
            "12        60  '2020/12/12'    100       120    250.70\n",
            "13        60  '2020/12/13'    106       128    345.30\n",
            "14        60  '2020/12/14'    104       132    379.30\n",
            "15        60  '2020/12/15'     98       123    275.00\n",
            "16        60  '2020/12/16'     98       120    215.20\n",
            "17        60  '2020/12/17'    100       120    300.00\n",
            "18        45  '2020/12/18'     90       112    304.68\n",
            "19        60  '2020/12/19'    103       123    323.00\n",
            "20        45  '2020/12/20'     97       125    243.00\n",
            "21        60  '2020/12/21'    108       131    364.20\n",
            "22        45           NaN    100       119    282.00\n",
            "23        60  '2020/12/23'    130       101    300.00\n",
            "24        45  '2020/12/24'    105       132    246.00\n",
            "25        60  '2020/12/25'    102       126    334.50\n",
            "26        60      20201226    100       120    250.00\n",
            "27        60  '2020/12/27'     92       118    241.00\n",
            "28        60  '2020/12/28'    103       132    304.68\n",
            "29        60  '2020/12/29'    100       132    280.00\n",
            "30        60  '2020/12/30'    102       129    380.30\n",
            "31        60  '2020/12/31'     92       115    243.00\n"
          ]
        }
      ]
    },
    {
      "cell_type": "code",
      "source": [
        "new_file1.loc[7,'Duration']=45\n",
        "print(new_file1)"
      ],
      "metadata": {
        "colab": {
          "base_uri": "https://localhost:8080/"
        },
        "id": "nVJunr66gHP7",
        "outputId": "cf8efa34-e8dc-41cb-8710-24e780c8bfc1"
      },
      "execution_count": 18,
      "outputs": [
        {
          "output_type": "stream",
          "name": "stdout",
          "text": [
            "    Duration          Date  Pulse  Maxpulse  Calories\n",
            "0         60  '2020/12/01'    110       130    409.10\n",
            "1         60  '2020/12/02'    117       145    479.00\n",
            "2         60  '2020/12/03'    103       135    340.00\n",
            "3         45  '2020/12/04'    109       175    282.40\n",
            "4         45  '2020/12/05'    117       148    406.00\n",
            "5         60  '2020/12/06'    102       127    300.00\n",
            "6         60  '2020/12/07'    110       136    374.00\n",
            "7         45  '2020/12/08'    104       134    253.30\n",
            "8         30  '2020/12/09'    109       133    195.10\n",
            "9         60  '2020/12/10'     98       124    269.00\n",
            "10        60  '2020/12/11'    103       147    329.30\n",
            "11        60  '2020/12/12'    100       120    250.70\n",
            "12        60  '2020/12/12'    100       120    250.70\n",
            "13        60  '2020/12/13'    106       128    345.30\n",
            "14        60  '2020/12/14'    104       132    379.30\n",
            "15        60  '2020/12/15'     98       123    275.00\n",
            "16        60  '2020/12/16'     98       120    215.20\n",
            "17        60  '2020/12/17'    100       120    300.00\n",
            "18        45  '2020/12/18'     90       112    304.68\n",
            "19        60  '2020/12/19'    103       123    323.00\n",
            "20        45  '2020/12/20'     97       125    243.00\n",
            "21        60  '2020/12/21'    108       131    364.20\n",
            "22        45           NaN    100       119    282.00\n",
            "23        60  '2020/12/23'    130       101    300.00\n",
            "24        45  '2020/12/24'    105       132    246.00\n",
            "25        60  '2020/12/25'    102       126    334.50\n",
            "26        60      20201226    100       120    250.00\n",
            "27        60  '2020/12/27'     92       118    241.00\n",
            "28        60  '2020/12/28'    103       132    304.68\n",
            "29        60  '2020/12/29'    100       132    280.00\n",
            "30        60  '2020/12/30'    102       129    380.30\n",
            "31        60  '2020/12/31'     92       115    243.00\n"
          ]
        }
      ]
    },
    {
      "cell_type": "code",
      "source": [
        "new_file1['Date']=pd.to_datetime(new_file1['Date'])\n",
        "print(new_file1)"
      ],
      "metadata": {
        "colab": {
          "base_uri": "https://localhost:8080/"
        },
        "id": "3QY5gXeqgqss",
        "outputId": "f3b989dd-ade1-4e38-e2bb-c55354666bf6"
      },
      "execution_count": 20,
      "outputs": [
        {
          "output_type": "stream",
          "name": "stdout",
          "text": [
            "    Duration       Date  Pulse  Maxpulse  Calories\n",
            "0         60 2020-12-01    110       130    409.10\n",
            "1         60 2020-12-02    117       145    479.00\n",
            "2         60 2020-12-03    103       135    340.00\n",
            "3         45 2020-12-04    109       175    282.40\n",
            "4         45 2020-12-05    117       148    406.00\n",
            "5         60 2020-12-06    102       127    300.00\n",
            "6         60 2020-12-07    110       136    374.00\n",
            "7         45 2020-12-08    104       134    253.30\n",
            "8         30 2020-12-09    109       133    195.10\n",
            "9         60 2020-12-10     98       124    269.00\n",
            "10        60 2020-12-11    103       147    329.30\n",
            "11        60 2020-12-12    100       120    250.70\n",
            "12        60 2020-12-12    100       120    250.70\n",
            "13        60 2020-12-13    106       128    345.30\n",
            "14        60 2020-12-14    104       132    379.30\n",
            "15        60 2020-12-15     98       123    275.00\n",
            "16        60 2020-12-16     98       120    215.20\n",
            "17        60 2020-12-17    100       120    300.00\n",
            "18        45 2020-12-18     90       112    304.68\n",
            "19        60 2020-12-19    103       123    323.00\n",
            "20        45 2020-12-20     97       125    243.00\n",
            "21        60 2020-12-21    108       131    364.20\n",
            "22        45        NaT    100       119    282.00\n",
            "23        60 2020-12-23    130       101    300.00\n",
            "24        45 2020-12-24    105       132    246.00\n",
            "25        60 2020-12-25    102       126    334.50\n",
            "26        60 2020-12-26    100       120    250.00\n",
            "27        60 2020-12-27     92       118    241.00\n",
            "28        60 2020-12-28    103       132    304.68\n",
            "29        60 2020-12-29    100       132    280.00\n",
            "30        60 2020-12-30    102       129    380.30\n",
            "31        60 2020-12-31     92       115    243.00\n"
          ]
        }
      ]
    },
    {
      "cell_type": "code",
      "source": [
        "new_file1.dropna(subset=['Date'],inplace=True)\n",
        "print(new_file1)"
      ],
      "metadata": {
        "colab": {
          "base_uri": "https://localhost:8080/"
        },
        "id": "Dw0kYTJlhF1Z",
        "outputId": "4aa71158-b2f8-434b-f4e4-340168eb90be"
      },
      "execution_count": 26,
      "outputs": [
        {
          "output_type": "stream",
          "name": "stdout",
          "text": [
            "    Duration       Date  Pulse  Maxpulse  Calories\n",
            "0         60 2020-12-01    110       130    409.10\n",
            "1         60 2020-12-02    117       145    479.00\n",
            "2         60 2020-12-03    103       135    340.00\n",
            "3         45 2020-12-04    109       175    282.40\n",
            "4         45 2020-12-05    117       148    406.00\n",
            "5         60 2020-12-06    102       127    300.00\n",
            "6         60 2020-12-07    110       136    374.00\n",
            "7         45 2020-12-08    104       134    253.30\n",
            "8         30 2020-12-09    109       133    195.10\n",
            "9         60 2020-12-10     98       124    269.00\n",
            "10        60 2020-12-11    103       147    329.30\n",
            "11        60 2020-12-12    100       120    250.70\n",
            "12        60 2020-12-12    100       120    250.70\n",
            "13        60 2020-12-13    106       128    345.30\n",
            "14        60 2020-12-14    104       132    379.30\n",
            "15        60 2020-12-15     98       123    275.00\n",
            "16        60 2020-12-16     98       120    215.20\n",
            "17        60 2020-12-17    100       120    300.00\n",
            "18        45 2020-12-18     90       112    304.68\n",
            "19        60 2020-12-19    103       123    323.00\n",
            "20        45 2020-12-20     97       125    243.00\n",
            "21        60 2020-12-21    108       131    364.20\n",
            "23        60 2020-12-23    130       101    300.00\n",
            "24        45 2020-12-24    105       132    246.00\n",
            "25        60 2020-12-25    102       126    334.50\n",
            "26        60 2020-12-26    100       120    250.00\n",
            "27        60 2020-12-27     92       118    241.00\n",
            "28        60 2020-12-28    103       132    304.68\n",
            "29        60 2020-12-29    100       132    280.00\n",
            "30        60 2020-12-30    102       129    380.30\n",
            "31        60 2020-12-31     92       115    243.00\n"
          ]
        }
      ]
    },
    {
      "cell_type": "code",
      "source": [
        "mean_Calories=new_file1['Calories'].mean()\n",
        "median_Calories=new_file1['Calories'].median()\n",
        "mode_Calories=new_file1['Calories'].mode()\n",
        "print(mean_Calories)\n",
        "print(median_Calories)\n",
        "print(mode_Calories)\n",
        "\n"
      ],
      "metadata": {
        "colab": {
          "base_uri": "https://localhost:8080/"
        },
        "id": "5q6sQw6qkTRI",
        "outputId": "8d52c5db-a13b-4501-e241-ce7166811de4"
      },
      "execution_count": 38,
      "outputs": [
        {
          "output_type": "stream",
          "name": "stdout",
          "text": [
            "305.41161290322583\n",
            "300.0\n",
            "0    300.0\n",
            "dtype: float64\n"
          ]
        }
      ]
    },
    {
      "cell_type": "code",
      "source": [
        "mean_Duration=new_file1['Duration'].mean()\n",
        "median_Duration=new_file1['Duration'].median()\n",
        "mode_Duration=new_file1['Duration'].mode()\n",
        "print(mean_Duration)\n",
        "print(median_Duration)\n",
        "print(mode_Duration)"
      ],
      "metadata": {
        "colab": {
          "base_uri": "https://localhost:8080/"
        },
        "id": "6TZ4Nh4VlHCR",
        "outputId": "dfd92805-470a-405d-d32b-0b6bde60361e"
      },
      "execution_count": 37,
      "outputs": [
        {
          "output_type": "stream",
          "name": "stdout",
          "text": [
            "56.12903225806452\n",
            "60.0\n",
            "0    60\n",
            "dtype: int64\n"
          ]
        }
      ]
    },
    {
      "cell_type": "code",
      "source": [
        "mean_Pulse=new_file1['Pulse'].mean()\n",
        "median_Pulse=new_file1['Pulse'].median()\n",
        "mode_Pulse=new_file1['Pulse'].mode()\n",
        "print(mean_Pulse)\n",
        "print(median_Pulse)\n",
        "print(mode_Pulse)"
      ],
      "metadata": {
        "colab": {
          "base_uri": "https://localhost:8080/"
        },
        "id": "YQsUTDv3lbD3",
        "outputId": "549e62ac-3f57-45a6-a8b8-d072600a8ea8"
      },
      "execution_count": 36,
      "outputs": [
        {
          "output_type": "stream",
          "name": "stdout",
          "text": [
            "103.61290322580645\n",
            "103.0\n",
            "0    100\n",
            "dtype: int64\n"
          ]
        }
      ]
    },
    {
      "cell_type": "code",
      "source": [
        "mean_Maxpulse=new_file1['Maxpulse'].mean()\n",
        "median_Maxpulse=new_file1['Maxpulse'].median()\n",
        "mode_Maxpulse=new_file1['Maxpulse'].mode()\n",
        "print(mean_Maxpulse)\n",
        "print(median_Maxpulse)\n",
        "print(mode_Maxpulse)"
      ],
      "metadata": {
        "colab": {
          "base_uri": "https://localhost:8080/"
        },
        "id": "yjTDTiDvlbHW",
        "outputId": "6dc3339f-2ecb-4aba-d89b-4302a9e29b1d"
      },
      "execution_count": 35,
      "outputs": [
        {
          "output_type": "stream",
          "name": "stdout",
          "text": [
            "128.80645161290323\n",
            "128.0\n",
            "0    120\n",
            "dtype: int64\n"
          ]
        }
      ]
    },
    {
      "cell_type": "code",
      "source": [
        "new_file1.corr()"
      ],
      "metadata": {
        "colab": {
          "base_uri": "https://localhost:8080/",
          "height": 175
        },
        "id": "V0uLytYjkH_i",
        "outputId": "d3e17439-50e2-4c1b-b74d-dc2405431732"
      },
      "execution_count": 31,
      "outputs": [
        {
          "output_type": "execute_result",
          "data": {
            "text/html": [
              "\n",
              "  <div id=\"df-a5964904-c1d8-4ed0-a748-0329d23cadf4\">\n",
              "    <div class=\"colab-df-container\">\n",
              "      <div>\n",
              "<style scoped>\n",
              "    .dataframe tbody tr th:only-of-type {\n",
              "        vertical-align: middle;\n",
              "    }\n",
              "\n",
              "    .dataframe tbody tr th {\n",
              "        vertical-align: top;\n",
              "    }\n",
              "\n",
              "    .dataframe thead th {\n",
              "        text-align: right;\n",
              "    }\n",
              "</style>\n",
              "<table border=\"1\" class=\"dataframe\">\n",
              "  <thead>\n",
              "    <tr style=\"text-align: right;\">\n",
              "      <th></th>\n",
              "      <th>Duration</th>\n",
              "      <th>Pulse</th>\n",
              "      <th>Maxpulse</th>\n",
              "      <th>Calories</th>\n",
              "    </tr>\n",
              "  </thead>\n",
              "  <tbody>\n",
              "    <tr>\n",
              "      <th>Duration</th>\n",
              "      <td>1.000000</td>\n",
              "      <td>-0.090626</td>\n",
              "      <td>-0.304610</td>\n",
              "      <td>0.317976</td>\n",
              "    </tr>\n",
              "    <tr>\n",
              "      <th>Pulse</th>\n",
              "      <td>-0.090626</td>\n",
              "      <td>1.000000</td>\n",
              "      <td>0.269000</td>\n",
              "      <td>0.484359</td>\n",
              "    </tr>\n",
              "    <tr>\n",
              "      <th>Maxpulse</th>\n",
              "      <td>-0.304610</td>\n",
              "      <td>0.269000</td>\n",
              "      <td>1.000000</td>\n",
              "      <td>0.342547</td>\n",
              "    </tr>\n",
              "    <tr>\n",
              "      <th>Calories</th>\n",
              "      <td>0.317976</td>\n",
              "      <td>0.484359</td>\n",
              "      <td>0.342547</td>\n",
              "      <td>1.000000</td>\n",
              "    </tr>\n",
              "  </tbody>\n",
              "</table>\n",
              "</div>\n",
              "      <button class=\"colab-df-convert\" onclick=\"convertToInteractive('df-a5964904-c1d8-4ed0-a748-0329d23cadf4')\"\n",
              "              title=\"Convert this dataframe to an interactive table.\"\n",
              "              style=\"display:none;\">\n",
              "        \n",
              "  <svg xmlns=\"http://www.w3.org/2000/svg\" height=\"24px\"viewBox=\"0 0 24 24\"\n",
              "       width=\"24px\">\n",
              "    <path d=\"M0 0h24v24H0V0z\" fill=\"none\"/>\n",
              "    <path d=\"M18.56 5.44l.94 2.06.94-2.06 2.06-.94-2.06-.94-.94-2.06-.94 2.06-2.06.94zm-11 1L8.5 8.5l.94-2.06 2.06-.94-2.06-.94L8.5 2.5l-.94 2.06-2.06.94zm10 10l.94 2.06.94-2.06 2.06-.94-2.06-.94-.94-2.06-.94 2.06-2.06.94z\"/><path d=\"M17.41 7.96l-1.37-1.37c-.4-.4-.92-.59-1.43-.59-.52 0-1.04.2-1.43.59L10.3 9.45l-7.72 7.72c-.78.78-.78 2.05 0 2.83L4 21.41c.39.39.9.59 1.41.59.51 0 1.02-.2 1.41-.59l7.78-7.78 2.81-2.81c.8-.78.8-2.07 0-2.86zM5.41 20L4 18.59l7.72-7.72 1.47 1.35L5.41 20z\"/>\n",
              "  </svg>\n",
              "      </button>\n",
              "      \n",
              "  <style>\n",
              "    .colab-df-container {\n",
              "      display:flex;\n",
              "      flex-wrap:wrap;\n",
              "      gap: 12px;\n",
              "    }\n",
              "\n",
              "    .colab-df-convert {\n",
              "      background-color: #E8F0FE;\n",
              "      border: none;\n",
              "      border-radius: 50%;\n",
              "      cursor: pointer;\n",
              "      display: none;\n",
              "      fill: #1967D2;\n",
              "      height: 32px;\n",
              "      padding: 0 0 0 0;\n",
              "      width: 32px;\n",
              "    }\n",
              "\n",
              "    .colab-df-convert:hover {\n",
              "      background-color: #E2EBFA;\n",
              "      box-shadow: 0px 1px 2px rgba(60, 64, 67, 0.3), 0px 1px 3px 1px rgba(60, 64, 67, 0.15);\n",
              "      fill: #174EA6;\n",
              "    }\n",
              "\n",
              "    [theme=dark] .colab-df-convert {\n",
              "      background-color: #3B4455;\n",
              "      fill: #D2E3FC;\n",
              "    }\n",
              "\n",
              "    [theme=dark] .colab-df-convert:hover {\n",
              "      background-color: #434B5C;\n",
              "      box-shadow: 0px 1px 3px 1px rgba(0, 0, 0, 0.15);\n",
              "      filter: drop-shadow(0px 1px 2px rgba(0, 0, 0, 0.3));\n",
              "      fill: #FFFFFF;\n",
              "    }\n",
              "  </style>\n",
              "\n",
              "      <script>\n",
              "        const buttonEl =\n",
              "          document.querySelector('#df-a5964904-c1d8-4ed0-a748-0329d23cadf4 button.colab-df-convert');\n",
              "        buttonEl.style.display =\n",
              "          google.colab.kernel.accessAllowed ? 'block' : 'none';\n",
              "\n",
              "        async function convertToInteractive(key) {\n",
              "          const element = document.querySelector('#df-a5964904-c1d8-4ed0-a748-0329d23cadf4');\n",
              "          const dataTable =\n",
              "            await google.colab.kernel.invokeFunction('convertToInteractive',\n",
              "                                                     [key], {});\n",
              "          if (!dataTable) return;\n",
              "\n",
              "          const docLinkHtml = 'Like what you see? Visit the ' +\n",
              "            '<a target=\"_blank\" href=https://colab.research.google.com/notebooks/data_table.ipynb>data table notebook</a>'\n",
              "            + ' to learn more about interactive tables.';\n",
              "          element.innerHTML = '';\n",
              "          dataTable['output_type'] = 'display_data';\n",
              "          await google.colab.output.renderOutput(dataTable, element);\n",
              "          const docLink = document.createElement('div');\n",
              "          docLink.innerHTML = docLinkHtml;\n",
              "          element.appendChild(docLink);\n",
              "        }\n",
              "      </script>\n",
              "    </div>\n",
              "  </div>\n",
              "  "
            ],
            "text/plain": [
              "          Duration     Pulse  Maxpulse  Calories\n",
              "Duration  1.000000 -0.090626 -0.304610  0.317976\n",
              "Pulse    -0.090626  1.000000  0.269000  0.484359\n",
              "Maxpulse -0.304610  0.269000  1.000000  0.342547\n",
              "Calories  0.317976  0.484359  0.342547  1.000000"
            ]
          },
          "metadata": {},
          "execution_count": 31
        }
      ]
    },
    {
      "cell_type": "code",
      "source": [
        "\n",
        "\n",
        "new_file2=pd.read_csv('/content/new_file_1.csv')\n",
        "\n",
        "new_file2.plot()\n",
        "\n",
        "plt.show()\n"
      ],
      "metadata": {
        "colab": {
          "base_uri": "https://localhost:8080/",
          "height": 268
        },
        "id": "FLG1Pte-h3s9",
        "outputId": "6c44e667-fc3b-458f-c1f3-d3752cac3f32"
      },
      "execution_count": 30,
      "outputs": [
        {
          "output_type": "display_data",
          "data": {
            "image/png": "[encoded data removed]",
            "text/plain": [
              "<Figure size 432x288 with 1 Axes>"
            ]
          },
          "metadata": {
            "needs_background": "light"
          }
        }
      ]
    }
  ],
  "metadata": {
    "colab": {
      "collapsed_sections": [],
      "name": "Untitled39.ipynb",
      "provenance": [],
      "authorship_tag": "ABX9TyOPaH+wZrVo0bSRJ+CUN4wH",
      "include_colab_link": true
    },
    "kernelspec": {
      "display_name": "Python 3",
      "name": "python3"
    },
    "language_info": {
      "name": "python"
    }
  },
  "nbformat": 4,
  "nbformat_minor": 0
}